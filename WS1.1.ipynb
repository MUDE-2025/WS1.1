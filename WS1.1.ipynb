{
 "cells": [
  {
   "cell_type": "markdown",
   "metadata": {},
   "source": [
    "# Workshop Week 1.1 : Warming up!\n",
    "\n",
    "*[CEGM1000 MUDE](http://mude.citg.tudelft.nl/)*\n",
    "\n",
    "*Written by: Jialei Ding*\n",
    "\n",
    "*Due: You are not required to hand this in*"
   ]
  },
  {
   "cell_type": "markdown",
   "metadata": {},
   "source": [
    "Hopefully by now you have been able to install Conda, VS Code and set up your shiny new environment. \n",
    "Welcome to the final task of the day.\n",
    "\n",
    "This notebook guides you through some common functionalities in Python that you will use a lot over this course. You will delve into them more in detail later. For now, try them out! \n",
    "\n",
    "You are **NOT** required to hand in your notebook today. \n",
    "\n",
    "## Part 1: Common datatypes\n",
    "Below you will see a cell with code. Hover over this cell and you will see a play button to the left. Clicking this button will run the cell.\n",
    "\n",
    "When you run a notebook for the first time, you will be asked to select a kernel (environment), make sure to select mude-base-25! \n",
    "This will ensure that you have the required setup to continue the rest of the notebook.\n",
    "\n",
    "If you still have not set this up, please go back to the instructions **"*[here](http://mude.citg.tudelft.nl/)*\n",.**"
   ]
  },
  {
   "cell_type": "code",
   "execution_count": 1,
   "metadata": {},
   "outputs": [],
   "source": [
    "# Run this cell first to load any needed packages. \n",
    "# Note that we also create a 'nickname' for the package when importing. This makes it easier for us to refer to the package later in the notebook. \n",
    "\n",
    "import numpy as np"
   ]
  },
  {
   "cell_type": "markdown",
   "metadata": {},
   "source": [
    "<div style=\"background-color:#AABAB2; color: black; width:90%; vertical-align: middle; padding:15px; margin: 10px; border-radius: 10px\">\n",
    "<p>\n",
    "\n",
    "$\\text{Task 1:}$\n",
    "    \n",
    "Inspect the code below and take note of the four common datatypes. You should be familiar with these.\n",
    "Python can automatically tell which is which, but it is a good exercise for you to check as well. You can check this by using the .type() method (more on methods later in the course!).\n",
    "\n",
    "Try finding out what data type each of the variables defined below is by using .type(), the first example is filled out for you.\n",
    "    \n",
    "</p>\n",
    "</div>"
   ]
  },
{
   "cell_type": "code",
   "execution_count": null,
   "id": "3570dde2",
   "metadata": {
    "tags": [
     "assignment"
    ]
   },
   "outputs": [],
   "source": [
    "#  Number of floors in a building\n",
    "num_floors = 5\n",
    "type_num_floors = type(num_floors)\n",
    "\n",
    "#  Length of column in building\n",
    "column_length = 3.75\n",
    "type_column_length = ### YOUR CODE HERE ###\n",
    "\n",
    "# String: Type of material\n",
    "material = \"Concrete\"\n",
    "type_material = ### YOUR CODE HERE ###\n",
    "\n",
    "# Boolean: Is the building under maintenance?\n",
    "building_under_maintenance = True\n",
    "type_building_under_maintenance = ### YOUR CODE HERE ###\n",
    "\n",
    "# Print statements \n",
    "print(\"Floors:\", num_floors, \"Data type:\", type_num_floors)\n",
    "print(\"Column Length:\", column_length, \"m\", \"Data type:\", type_column_length)\n",
    "print(\"Material:\", material, \"Data type:\", type_material)\n",
    "print(\"Building Maintenance:\", building_under_maintenance, \"Data type:\", type_building_under_maintenance)\n"
   ]
  },
{
   "cell_type": "code",
   "execution_count": 2,
   "id": "63487767",
   "metadata": {
    "tags": [
     "solution"
    ]
   },
   "outputs": [
    {
     "data": {
      "text/plain": [
       "Floors: 5 Data type: <class 'int'>\n",
       "Column Length: 3.75 m Data type: <class 'float'>\n",
       "Material: Concrete Data type: <class 'str'>\n",
       "Building Maintenance: True Data type: <class 'bool'>\n"
      ]
     },
     "execution_count": 2,
     "metadata": {},
     "output_type": "execute_result"
    }
   ],
   "source": [
    "#  Number of floors in a building\n",
    "num_floors = 5\n",
    "type_num_floors = type(num_floors)\n",
    "\n",
    "#  Length of column in building\n",
    "column_length = 3.75\n",
    "type_column_length = type(column_length)\n",
    "\n",
    "# String: Type of material\n",
    "material = \"Concrete\"\n",
    "type_material = type(material)\n",
    "\n",
    "# Boolean: Is the building under maintenance?\n",
    "building_under_maintenance = True\n",
    "type_building_under_maintenance = type(building_under_maintenance)\n",
    "\n",
    "# Print statements \n",
    "print(\"Floors:\", num_floors, \"Data type:\", type_num_floors)\n",
    "print(\"Column Length:\", column_length, \"m\", \"Data type:\", type_column_length)\n",
    "print(\"Material:\", material, \"Data type:\", type_material)\n",
    "print(\"Building Maintenance:\", building_under_maintenance, \"Data type:\", type_building_under_maintenance)\n"
   ]
  },
  {
   "cell_type": "markdown",
   "metadata": {},
   "source": [
    "<div style=\"background-color:#FAE99E; color: black; vertical-align: middle; padding:15px; margin: 10px; border-radius: 10px; width: 90%\">\n",
    "<p>\n",
    "\n",
    "$\\text{Solution:}$\n",
    "\n",
    "You should have found the following:\n",
    "- num_floors is an **integer** number\n",
    "- column_length is a **float**. If you have never done any programming before, you will know this as a rational number.\n",
    "- material is a **string**. A string is any piece of text (or numbers that you want the computer to treat like text).\n",
    "- building_under_maintenance is a **boolean**. Boolean take only two values, i.e., yes and no, 1 and 0, True or False etc.. \n",
    "\n",
    "End of solution.\n",
    "</p>\n",
    "</div>"
   ]
  },



  {
   "cell_type": "markdown",
   "metadata": {},
   "source": [
    "## Part 2: Variables, Constants, Operators, and Expressions\n",
    "\n",
    "Above you have already seen the use of variables to store bits of information. \n",
    "In this next part, you will create your own variable and use it to apply a safety factor to the load in a beam.\n",
    "\n",
    "Run the cell below to calculate the final load. Observe how we define a value for the beam length and load per meter, and then multiply them together to get the total load."
   ]
  },
{
   "cell_type": "code",
   "execution_count": 3,
   "id": "73487767",
   "metadata": {},
   "outputs": [
    {
     "data": {
       "text/plain": [
        "Total Load on Beam: 15.0 kN\n"
      ]
     },
     "execution_count": 3,
     "metadata": {},
     "output_type": "execute_result"
    }
   ],
   "source": [
    "# Variables\n",
    "beam_length = 6  # in meters \n",
    "load_per_meter = 2.5  # in kN/m\n",
    "\n",
    "# Expression: Total load on the beam\n",
    "total_load = beam_length * load_per_meter  # in kN\n",
    "\n",
    "print(\"Total Load on Beam:\", total_load, \"kN\")"
   ]
  },
  {
   "cell_type": "markdown",
   "metadata": {},
   "source": [
    "<div style=\"background-color:#AABAB2; color: black; width:90%; vertical-align: middle; padding:15px; margin: 10px; border-radius: 10px\">\n",
    "<p>\n",
    "\n",
    "$\\text{Task 2:}$\n",
    "    \n",
    "Add a new variable called 'safety_factor'. Set the safety factor as 1.15 (this is the safety factor of the load).\n",
    "Then, create a new expression that multiplies the previously calculated total load with the safety factor.\n",
    "\n",
    "Add the correct variable to print out in the print statement.\n",
    "    \n",
    "</p>\n",
    "</div>"
   ]
  },
{
   "cell_type": "code",
   "execution_count": null,
   "id": "3570dde2",
   "metadata": {
    "tags": [
     "assignment"
    ]
   },
   "outputs": [],
   "source": [
    "# Please assign the correct contents to the variables below.\n",
    "safety_factor = ### YOUR CODE HERE ###\n",
    "design_load = ### YOUR CODE HERE ###\n",
    "\n",
    "# Fill in the print statement below\n",
    "print(### YOUR CODE HERE ###, ### YOUR CODE HERE ###)"
   ]
  },
{
   "cell_type": "code",
   "execution_count": 4,
   "id": "63487767",
   "metadata": {
    "tags": [
     "solution"
    ]
   },
   "outputs": [
    {
     "data": {
      "text/plain": [
       "The safety factor is: 1.15 The design load is: 15.0\n"
      ]
     },
     "execution_count": 4,
     "metadata": {},
     "output_type": "execute_result"
    }
   ],
   "source": [
    "# Please assign the correct contents to the variables below.\n",
    "safety_factor = 1.15\n",
    "design_load = total_load * safety_factor\n",
    "\n",
    "# Fill in the print statement below\n",
    "print(\"The safety factor is:\", safety_factor, \"The design load is:\", total_load)"
   ]
  },



{
   "cell_type": "markdown",
   "metadata": {},
   "source": [
    "## Part 3: Data structures\n",
    "\n",
    "Another thing you will run into time and time again in Python are different types of data structures, i.e., how data is organised into a ... structure. Python carries a lot of different data structures, but three common ones are shown below. Although the may seem arbitrary at first, different data structures can be manipulated in different ways, meaning you can  and should choose the structure that makes the most sense for your needs. \n",
    "\n",
    "You will learn more about the different data structures as the course goes on. For now, you can warm up with some simple exercises on the use of data structures. These are not a comprehensive manual on how to use each data structure, but aims to show you some of their features.\n",
    "\n",
    "They are often denoted by the type of bracket surrounding them. Note how this is the case for each of the data structures shown below. "
   ]
  },
{
   "cell_type": "code",
   "execution_count": 5,
   "id": "73487767",
   "metadata": {},
   "outputs": [
    {
     "data": {
       "text/plain": [
        "Building Heights: [10, 15, 20, 25]\n",
        "Survey Point: (120.5, 45.8)\n",
        "Material Strengths: {'Concrete': 30, 'Steel': 250, 'Timber': 12}\n"
      ]
     },
     "execution_count": 5,
     "metadata": {},
     "output_type": "execute_result"
    }
   ],
   "source": [
    "# List: Heights of buildings on a street\n",
    "building_heights = [10, 15, 20, 25]\n",
    "\n",
    "# Tuple: Coordinates of a survey point (x, y)\n",
    "survey_point = (120.5, 45.8)\n",
    "\n",
    "# Dictionary: Material strengths (MPa)\n",
    "material_strengths = {\n",
    "    \"Concrete\": 30,\n",
    "    \"Steel\": 250,\n",
    "    \"Timber\": 12\n",
    "}\n",
    "\n",
    "print(\"Building Heights:\", building_heights)\n",
    "print(\"Survey Point:\", survey_point)\n",
    "print(\"Material Strengths:\", material_strengths)\n"
   ]
  },
{
   "cell_type": "markdown",
   "metadata": {},
   "source": [
    "**Lists**\n",
    "\n",
    "Each entry in a list can be 'retrieved' through that entry's index in the list. Note that in Python, we start counting from zero! This means, if you want to find the second entry in the list, you will have to ask Python for the entry with index 1. One syntax for accessing an entry of a certain index in a list is **entry = list_name(index)**.\n",
    "\n",
    "**Tuples**\n",
    "\n",
    "\n",
    "**Dictionaries**\n",
    "\n",
    "Dictionaries allow us to store sets of values and keys. In the example above, each key, i.e., each material, has an associated value, i.e., their strengths. If we want to retrieve a value in a dictionary, we need to use the key, rather than the index, as was the case with lists. This means the syntax will be **entry = dictionary_name[key_name]**. "
   ]
  },
  {
   "cell_type": "markdown",
   "metadata": {},
   "source": [
    "<div style=\"background-color:#AABAB2; color: black; width:90%; vertical-align: middle; padding:15px; margin: 10px; border-radius: 10px\">\n",
    "<p>\n",
    "\n",
    "$\\text{Task 3:}$\n",
    "This task will ask you to do an operation on each of the data types shown above. \n",
    "\n",
    "1. Retrieve the last entry in the list and print it out. Remember the starting index in Python is zero.\n",
    "\n",
    "2. From the dictionary, please retrieve the strength for steel. Remember that the keys are strings.\n",
    "</p>\n",
    "</div>"
   ]
  },
{
   "cell_type": "code",
   "execution_count": null,
   "id": "3570dde2",
   "metadata": {
    "tags": [
     "assignment"
    ]
   },
   "outputs": [],
   "source": [
    "# List\n",
    "last_entry_list =### YOUR CODE HERE ###\n",
    "\n",
    "# Tuple\n",
    "\n",
    "# Dictionary\n",
    "steel_strength = ### YOUR CODE HERE ###\n",
    "\n",
    "print(### YOUR CODE HERE ###)\n",
    "print(### YOUR CODE HERE ###)"
   ]
  },
{
   "cell_type": "code",
   "execution_count": 6,
   "id": "73487767",
   "metadata": {
    "tags": [
     "solution"
    ]
   },
   "outputs": [
    {
     "data": {
      "text/plain": [
       "Last entry in list: 25\n",
       "\n",
       "Steel strength: 250 MPa\n"
      ]
     },
     "execution_count": 4,
     "metadata": {},
     "output_type": "execute_result"
    }
   ],
   "source": [
    "# List\n",
    "last_entry_list = building_heights[3]\n",
    "\n",
    "# Tuple\n",
    "\n",
    "# Dictionary\n",
    "steel_strength = material_strengths['Steel']\n",
    "\n",
    "print('Last entry in list:', last_entry_list)\n",
    "print('Steel strength:', steel_strength, 'MPa')"
   ]
  },



{
   "cell_type": "markdown",
   "metadata": {},
   "source": [
    "## Part 4: conditional statements\n",
    "\n",
    "Another core functionality of Python, or any other programming language, is the use of conditional statements. These act as a flowchart through your code, activating certain parts if the given conditions are (or aren't) met. Study the code below and try to predict which branch gets activated. You can run the cell to check. "
   ]
  },
{
   "cell_type": "code",
   "execution_count": 7,
   "id": "73487767",
   "metadata": {},
   "outputs": [
    {
     "data": {
       "text/plain": [
        "Safe to proceed.\n"
      ]
     },
     "execution_count": 7,
     "metadata": {},
     "output_type": "execute_result"
    }
   ],
   "source": [
    "load_capacity = 50  # in tons\n",
    "total_load = 48  # in tons\n",
    "\n",
    "# Conditional statements\n",
    "if total_load < load_capacity:\n",
    "    print(\"Safe to proceed.\")\n",
    "elif total_load == load_capacity:\n",
    "    print(\"At maximum capacity.\")\n",
    "else:\n",
    "    print(\"Overloaded! Reduce the load.\")"
   ]
  },
 {
   "cell_type": "markdown",
   "metadata": {},
   "source": [
    "But wait! \n",
    "Earlier we defined a safety factor for our load and we want to use this to compare against our load capacity. Let us do that in the task below."
   ]
  },
  {
   "cell_type": "markdown",
   "metadata": {},
   "source": [
    "<div style=\"background-color:#AABAB2; color: black; width:90%; vertical-align: middle; padding:15px; margin: 10px; border-radius: 10px\">\n",
    "<p>\n",
    "\n",
    "$\\text{Task 4:}$\n",
    "\n",
    " Edit the code above so that you can calculate the design load by multiplying the total load with the load safety factor of 1.15. Then, change the conditional statements so that they compare the load capacity against the design load. Are we able to proceed?\n",
    "    \n",
    "</p>\n",
    "</div>"
   ]
  },
{
   "cell_type": "code",
   "execution_count": null,
   "id": "3570dde2",
   "metadata": {
    "tags": [
     "assignment"
    ]
   },
   "outputs": [],
   "source": [
    "load_capacity = 50  # in tons\n",
    "total_load = 48  # in tons\n",
    "design_load = ### YOUR CODE HERE ###\n",
    "\n",
    "# Conditional statements\n",
    "if ### YOUR CODE HERE ###\n",
    "    print(\"Safe to proceed.\")\n",
    "elif ### YOUR CODE HERE ###\n",
    "    print(\"At maximum capacity.\")\n",
    "else:\n",
    "    print(\"Overloaded! Reduce the load.\")"
   ]
  },
{
   "cell_type": "code",
   "execution_count": 8,
   "id": "73487767",
   "metadata": {
    "tags": [
     "solution"
    ]
   },
   "outputs": [
    {
     "data": {
      "text/plain": [
       "Overloaded! Reduce the load.\n"
      ]
     },
     "execution_count": 8,
     "metadata": {},
     "output_type": "execute_result"
    }
   ],
   "source": [
    "load_capacity = 50  # in tons\n",
    "total_load = 48  # in tons\n",
    "design_load = total_load * 1.15\n",
    "\n",
    "# Conditional statements\n",
    "if design_load < load_capacity:\n",
    "    print(\"Safe to proceed.\")\n",
    "elif design_load == load_capacity:\n",
    "    print(\"At maximum capacity.\")\n",
    "else:\n",
    "    print(\"Overloaded! Reduce the load.\")"
   ]
  },
{
   "cell_type": "markdown",
   "metadata": {},
   "source": [
    "<div style=\"background-color:#FAE99E; color: black; vertical-align: middle; padding:15px; margin: 10px; border-radius: 10px; width: 90%\">\n",
    "<p>\n",
    "\n",
    "$\\text{Solution:}$\n",
    "\n",
    "You will find that, once the safety factor is applied, our design load is actually **55.2 kN**.\n",
    "Your printout should be \"Overloaded! Reduce the load.\"\n",
    "\n",
    "\n",
    "End of solution.\n",
    "</p>\n",
    "</div>"
   ]
  },
  {
   "cell_type": "markdown",
   "metadata": {},
   "source": [
    "# Part 5: Loops\n",
    "\n",
    "We often want to do the same operation on a series of values. As you probably can tell, this quickly becomes extremely tedious and inefficient. Loops are a great way to iterate through a series of values using the same set of operations.\n",
    "\n",
    "To create a loop you fundamentally need two things. The first is a set of values you want to iterate through. The second is the loop itself. In the example below, there is a list with three different beam lengths. This will act as our set of values to iterate through. Next, there is the loop itself. The first line defines the 'running scope' of the loop, i.e., for what set of values you are running the loop for. The syntax in this case is 'for x in y'. In this case, each x is called a 'length' and the y we we iterate through is beam_lengths. \n",
    "\n",
    "Inside this loop, the operations then take place. In the first iteration, the loop takes the first entry in the list, 4, and uses this value to calculate the total load. In the next iteration, the loop will take the next entry in the list, 5 and so on. \n",
    "\n",
    "**A note on equal signs**\n",
    "\n",
    "One thing to note is that the equals sign here works a bit differently than an equals sign in maths. Instead of saying that A is the same as B, the equals sign **assigns** A to B. In the first task, you can see that beam_length = 6. In this case, we take the integer 6 and assign it to beam_length. This means that if we want to assign a value of 7 to beam_length, we can simply type beam_length = 7. Because the value is being **assigned** to beam_length, we won't have any issues with the fact that 6 is not equal to 7. When you assign a value, you override the previous value.\n",
    "\n",
    "The same thing happens in the loop below loop. For each time the loop runs, a new value is assigned to total_length. The value is then printed out. In the next loop, the old value is overwritten by the new value.\n"
   ]
  },
{
   "cell_type": "code",
   "execution_count": 7,
   "id": "73487767",
   "metadata": {},
   "outputs": [
    {
     "data": {
       "text/plain": [
        "Beam Length: 4m -> Load: 10.0 kN\n",
        "Beam Length: 5m -> Load: 12.5 kN\n",
        "Beam Length: 6m -> Load: 15.0 kN\n"
      ]
     },
     "execution_count": 7,
     "metadata": {},
     "output_type": "execute_result"
    }
   ],
   "source": [
    "# List of beam lengths to calculate total load for each\n",
    "beam_lengths = [4, 5, 6] #m\n",
    "load_per_meter = 2.5  # kN/m\n",
    "\n",
    "for length in beam_lengths:\n",
    "    total_load = length * load_per_meter\n",
    "    print(f\"Beam Length: {length}m -> Load: {total_load} kN\")\n"
   ]
  },



 {
   "cell_type": "markdown",
   "metadata": {},
   "source": [
    "<div style=\"background-color:#AABAB2; color: black; width:90%; vertical-align: middle; padding:15px; margin: 10px; border-radius: 10px\">\n",
    "<p>\n",
    "\n",
    "$\\text{Task 5:}$\n",
    "\n",
    "Apply the safety factor again so that we use a design load instead of the total load. Do this is two different ways:\n",
    "1. By editing the input values, i.e., things outside the loop.\n",
    "2. By editing the loop itself.\n",
    "\n",
    "You should have two separate solutions, one for each case. You may also want to rename total_load to design_load for propriety.\n",
    "    \n",
    "</p>\n",
    "</div>"
   ]
  },
{
   "cell_type": "code",
   "execution_count": null,
   "id": "3570dde2",
   "metadata": {
    "tags": [
     "assignment"
    ]
   },
   "outputs": [],
   "source": [
    "\n",
    "# Input values\n",
    "### YOUR CODE LINES HERE\n",
    "\n",
    "for length in beam_lengths:\n",
    "    design_load = length * load_per_meter\n",
    "    print(f\"Beam Length: {length}m -> Load: {design_load} kN\")\n",
    "\n",
    "\n",
    "# Loop\n",
    "### YOUR CODE LINES HERE\n",
    "\n",
    "for length in beam_lengths:\n",
    "    design_load = length * load_per_meter * 1.15\n",
    "    print(f\"Beam Length: {length}m -> Load: {design_load} kN\")"
   ]
  },

{
   "cell_type": "code",
   "execution_count": 10,
   "id": "73487767",
   "metadata": {
    "tags": [
     "solution"
    ]
   },
   "outputs": [
    {
     "data": {
      "text/plain": [
       "Beam Length: 4m -> Load: 11.5 kN\n",
       "Beam Length: 5m -> Load: 14.375 kN\n",
       "Beam Length: 6m -> Load: 17.25 kN\n",
       "Beam Length: 4m -> Load: 13.225 kN\n",
       "Beam Length: 5m -> Load: 16.53125 kN\n",
       "Beam Length: 6m -> Load: 19.8375 kN\n"
      ]
     },
     "execution_count": 10,
     "metadata": {},
     "output_type": "execute_result"
    }
   ],
   "source": [
    "\n",
    "# Input values\n",
    "beam_lengths = [4, 5, 6]\n",
    "load_per_meter = 2.5 * 1.15  # kN/m\n",
    "\n",
    "for length in beam_lengths:\n",
    "    design_load = length * load_per_meter\n",
    "    print(f\"Beam Length: {length}m -> Load: {design_load} kN\")\n",
    "\n",
    "\n",
    "# Loop\n",
    "beam_lengths = [4, 5, 6]\n",
    "load_per_meter = 2.5 * 1.15  # kN/m\n",
    "\n",
    "for length in beam_lengths:\n",
    "    design_load = length * load_per_meter * 1.15\n",
    "    print(f\"Beam Length: {length}m -> Load: {design_load} kN\")"
   ]
  },

{
   "cell_type": "markdown",
   "metadata": {},
   "source": [
    "Well done on completing your first notebook in MUDE!\n",
    "We know this may be a lot to take in, but with regular use we are sure you will get comfortable with Python soon enough."
   ]
  },
  
{
   "cell_type": "markdown",
   "metadata": {},
   "source": [
    "End of notebook"
   ]
  },
 


{
   "cell_type": "markdown",
   "metadata": {},
   "source": [
    "> By Jialei Ding, Delft University of Technology. CC BY 4.0, more info [on the Credits page of Workbook](https://mude.citg.tudelft.nl/workbook-2025/credits.html)."
   ]
  }
 ],
 "metadata": {
  "kernelspec": {
   "display_name": "mude-base",
   "language": "python",
   "name": "python3"
  },
  "language_info": {
   "codemirror_mode": {
    "name": "ipython",
    "version": 3
   },
   "file_extension": ".py",
   "mimetype": "text/x-python",
   "name": "python",
   "nbconvert_exporter": "python",
   "pygments_lexer": "ipython3",
   "version": "3.12.11"
  }
 },
 "nbformat": 4,
 "nbformat_minor": 2
}
